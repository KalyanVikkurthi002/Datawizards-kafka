{
 "cells": [
  {
   "cell_type": "code",
   "execution_count": 1,
   "id": "03306777",
   "metadata": {},
   "outputs": [
    {
     "name": "stdout",
     "output_type": "stream",
     "text": [
      "Requirement already satisfied: kafka-python in /opt/anaconda3/lib/python3.9/site-packages (2.0.2)\n",
      "Note: you may need to restart the kernel to use updated packages.\n"
     ]
    }
   ],
   "source": [
    "pip install kafka-python"
   ]
  },
  {
   "cell_type": "code",
   "execution_count": 10,
   "id": "ad3ff7d2",
   "metadata": {},
   "outputs": [],
   "source": [
    "import pandas as pd\n",
    "from kafka import KafkaProducer\n",
    "from time import sleep\n",
    "from json import dumps\n",
    "import json"
   ]
  },
  {
   "cell_type": "code",
   "execution_count": 11,
   "id": "ba774485",
   "metadata": {},
   "outputs": [],
   "source": [
    "producer = KafkaProducer(bootstrap_servers=['44.204.65.140:9092'], #change ip here\n",
    "                         value_serializer=lambda x: \n",
    "                         dumps(x).encode('utf-8'))"
   ]
  },
  {
   "cell_type": "code",
   "execution_count": 28,
   "id": "9383d619",
   "metadata": {},
   "outputs": [
    {
     "data": {
      "text/plain": [
       "<kafka.producer.future.FutureRecordMetadata at 0x7fbfa2824a30>"
      ]
     },
     "execution_count": 28,
     "metadata": {},
     "output_type": "execute_result"
    }
   ],
   "source": [
    "# producer.send('datawizards2', value={'kalyan':'vikkurthi'})"
   ]
  },
  {
   "cell_type": "code",
   "execution_count": 29,
   "id": "23bbf631",
   "metadata": {},
   "outputs": [
    {
     "data": {
      "text/plain": [
       "<kafka.producer.future.FutureRecordMetadata at 0x7fbfa28bc190>"
      ]
     },
     "execution_count": 29,
     "metadata": {},
     "output_type": "execute_result"
    }
   ],
   "source": [
    "# producer.send('datawizards2', value={'Big Data':'Class'})"
   ]
  },
  {
   "cell_type": "code",
   "execution_count": 12,
   "id": "4416849b",
   "metadata": {},
   "outputs": [],
   "source": [
    "df = pd.read_csv(\"/Users/kalyanvikkurthi/Downloads/SJSU/SEM 2/BIG DATA/project/kafkaproject-virginia/Downloaded data_EIA.csv\")\n"
   ]
  },
  {
   "cell_type": "code",
   "execution_count": 13,
   "id": "21e9c7e3",
   "metadata": {},
   "outputs": [
    {
     "data": {
      "text/html": [
       "<div>\n",
       "<style scoped>\n",
       "    .dataframe tbody tr th:only-of-type {\n",
       "        vertical-align: middle;\n",
       "    }\n",
       "\n",
       "    .dataframe tbody tr th {\n",
       "        vertical-align: top;\n",
       "    }\n",
       "\n",
       "    .dataframe thead th {\n",
       "        text-align: right;\n",
       "    }\n",
       "</style>\n",
       "<table border=\"1\" class=\"dataframe\">\n",
       "  <thead>\n",
       "    <tr style=\"text-align: right;\">\n",
       "      <th></th>\n",
       "      <th>period</th>\n",
       "      <th>respondent</th>\n",
       "      <th>respondent-name</th>\n",
       "      <th>type</th>\n",
       "      <th>type-name</th>\n",
       "      <th>value</th>\n",
       "      <th>value-units</th>\n",
       "    </tr>\n",
       "  </thead>\n",
       "  <tbody>\n",
       "    <tr>\n",
       "      <th>0</th>\n",
       "      <td>2023-02-08T00</td>\n",
       "      <td>NE</td>\n",
       "      <td>New England</td>\n",
       "      <td>DF</td>\n",
       "      <td>Day-ahead demand forecast</td>\n",
       "      <td>16750.0</td>\n",
       "      <td>megawatthours</td>\n",
       "    </tr>\n",
       "    <tr>\n",
       "      <th>1</th>\n",
       "      <td>2023-02-08T00</td>\n",
       "      <td>SWPP</td>\n",
       "      <td>Southwest Power Pool</td>\n",
       "      <td>DF</td>\n",
       "      <td>Day-ahead demand forecast</td>\n",
       "      <td>33502.0</td>\n",
       "      <td>megawatthours</td>\n",
       "    </tr>\n",
       "    <tr>\n",
       "      <th>2</th>\n",
       "      <td>2023-02-08T00</td>\n",
       "      <td>SE</td>\n",
       "      <td>Southeast</td>\n",
       "      <td>DF</td>\n",
       "      <td>Day-ahead demand forecast</td>\n",
       "      <td>24202.0</td>\n",
       "      <td>megawatthours</td>\n",
       "    </tr>\n",
       "    <tr>\n",
       "      <th>3</th>\n",
       "      <td>2023-02-08T00</td>\n",
       "      <td>TEN</td>\n",
       "      <td>Tennessee</td>\n",
       "      <td>DF</td>\n",
       "      <td>Day-ahead demand forecast</td>\n",
       "      <td>17891.0</td>\n",
       "      <td>megawatthours</td>\n",
       "    </tr>\n",
       "    <tr>\n",
       "      <th>4</th>\n",
       "      <td>2023-02-08T00</td>\n",
       "      <td>SOCO</td>\n",
       "      <td>Southern Company Services, Inc. - Trans</td>\n",
       "      <td>DF</td>\n",
       "      <td>Day-ahead demand forecast</td>\n",
       "      <td>24202.0</td>\n",
       "      <td>megawatthours</td>\n",
       "    </tr>\n",
       "  </tbody>\n",
       "</table>\n",
       "</div>"
      ],
      "text/plain": [
       "          period respondent                          respondent-name type  \\\n",
       "0  2023-02-08T00         NE                              New England   DF   \n",
       "1  2023-02-08T00       SWPP                     Southwest Power Pool   DF   \n",
       "2  2023-02-08T00         SE                                Southeast   DF   \n",
       "3  2023-02-08T00        TEN                                Tennessee   DF   \n",
       "4  2023-02-08T00       SOCO  Southern Company Services, Inc. - Trans   DF   \n",
       "\n",
       "                   type-name    value    value-units  \n",
       "0  Day-ahead demand forecast  16750.0  megawatthours  \n",
       "1  Day-ahead demand forecast  33502.0  megawatthours  \n",
       "2  Day-ahead demand forecast  24202.0  megawatthours  \n",
       "3  Day-ahead demand forecast  17891.0  megawatthours  \n",
       "4  Day-ahead demand forecast  24202.0  megawatthours  "
      ]
     },
     "execution_count": 13,
     "metadata": {},
     "output_type": "execute_result"
    }
   ],
   "source": [
    "df.head()"
   ]
  },
  {
   "cell_type": "code",
   "execution_count": 14,
   "id": "6bf0ec57",
   "metadata": {},
   "outputs": [],
   "source": [
    "df = df.sample(100)"
   ]
  },
  {
   "cell_type": "code",
   "execution_count": 15,
   "id": "b318aacd",
   "metadata": {},
   "outputs": [
    {
     "data": {
      "text/html": [
       "<div>\n",
       "<style scoped>\n",
       "    .dataframe tbody tr th:only-of-type {\n",
       "        vertical-align: middle;\n",
       "    }\n",
       "\n",
       "    .dataframe tbody tr th {\n",
       "        vertical-align: top;\n",
       "    }\n",
       "\n",
       "    .dataframe thead th {\n",
       "        text-align: right;\n",
       "    }\n",
       "</style>\n",
       "<table border=\"1\" class=\"dataframe\">\n",
       "  <thead>\n",
       "    <tr style=\"text-align: right;\">\n",
       "      <th></th>\n",
       "      <th>period</th>\n",
       "      <th>respondent</th>\n",
       "      <th>respondent-name</th>\n",
       "      <th>type</th>\n",
       "      <th>type-name</th>\n",
       "      <th>value</th>\n",
       "      <th>value-units</th>\n",
       "    </tr>\n",
       "  </thead>\n",
       "  <tbody>\n",
       "    <tr>\n",
       "      <th>219158</th>\n",
       "      <td>2023-01-07T01</td>\n",
       "      <td>BANC</td>\n",
       "      <td>Balancing Authority of Northern California</td>\n",
       "      <td>DF</td>\n",
       "      <td>Day-ahead demand forecast</td>\n",
       "      <td>2019.0</td>\n",
       "      <td>megawatthours</td>\n",
       "    </tr>\n",
       "    <tr>\n",
       "      <th>204815</th>\n",
       "      <td>2023-01-09T03</td>\n",
       "      <td>TEC</td>\n",
       "      <td>Tampa Electric Company</td>\n",
       "      <td>TI</td>\n",
       "      <td>Total interchange</td>\n",
       "      <td>23.0</td>\n",
       "      <td>megawatthours</td>\n",
       "    </tr>\n",
       "    <tr>\n",
       "      <th>151544</th>\n",
       "      <td>2023-01-16T22</td>\n",
       "      <td>AZPS</td>\n",
       "      <td>Arizona Public Service Company</td>\n",
       "      <td>TI</td>\n",
       "      <td>Total interchange</td>\n",
       "      <td>-632.0</td>\n",
       "      <td>megawatthours</td>\n",
       "    </tr>\n",
       "    <tr>\n",
       "      <th>198203</th>\n",
       "      <td>2023-01-10T02</td>\n",
       "      <td>TIDC</td>\n",
       "      <td>Turlock Irrigation District</td>\n",
       "      <td>D</td>\n",
       "      <td>Demand</td>\n",
       "      <td>324.0</td>\n",
       "      <td>megawatthours</td>\n",
       "    </tr>\n",
       "    <tr>\n",
       "      <th>116617</th>\n",
       "      <td>2023-01-22T00</td>\n",
       "      <td>DEAA</td>\n",
       "      <td>Arlington Valley, LLC</td>\n",
       "      <td>NG</td>\n",
       "      <td>Net generation</td>\n",
       "      <td>-2.0</td>\n",
       "      <td>megawatthours</td>\n",
       "    </tr>\n",
       "  </tbody>\n",
       "</table>\n",
       "</div>"
      ],
      "text/plain": [
       "               period respondent                             respondent-name  \\\n",
       "219158  2023-01-07T01       BANC  Balancing Authority of Northern California   \n",
       "204815  2023-01-09T03        TEC                      Tampa Electric Company   \n",
       "151544  2023-01-16T22       AZPS              Arizona Public Service Company   \n",
       "198203  2023-01-10T02       TIDC                 Turlock Irrigation District   \n",
       "116617  2023-01-22T00       DEAA                       Arlington Valley, LLC   \n",
       "\n",
       "       type                  type-name   value    value-units  \n",
       "219158   DF  Day-ahead demand forecast  2019.0  megawatthours  \n",
       "204815   TI          Total interchange    23.0  megawatthours  \n",
       "151544   TI          Total interchange  -632.0  megawatthours  \n",
       "198203    D                     Demand   324.0  megawatthours  \n",
       "116617   NG             Net generation    -2.0  megawatthours  "
      ]
     },
     "execution_count": 15,
     "metadata": {},
     "output_type": "execute_result"
    }
   ],
   "source": [
    "df.head()"
   ]
  },
  {
   "cell_type": "code",
   "execution_count": 16,
   "id": "16959ca3",
   "metadata": {},
   "outputs": [],
   "source": [
    "# EIA = df.sample(1).to_dict(orient=\"records\")[0]\n",
    "# print(EIA)"
   ]
  },
  {
   "cell_type": "code",
   "execution_count": 17,
   "id": "4dfd75fb",
   "metadata": {},
   "outputs": [
    {
     "ename": "KeyboardInterrupt",
     "evalue": "",
     "output_type": "error",
     "traceback": [
      "\u001b[0;31m---------------------------------------------------------------------------\u001b[0m",
      "\u001b[0;31mKeyboardInterrupt\u001b[0m                         Traceback (most recent call last)",
      "Input \u001b[0;32mIn [17]\u001b[0m, in \u001b[0;36m<cell line: 2>\u001b[0;34m()\u001b[0m\n\u001b[1;32m      2\u001b[0m EIA \u001b[38;5;241m=\u001b[39m df\u001b[38;5;241m.\u001b[39msample(\u001b[38;5;241m1\u001b[39m)\u001b[38;5;241m.\u001b[39mto_dict(orient\u001b[38;5;241m=\u001b[39m\u001b[38;5;124m\"\u001b[39m\u001b[38;5;124mrecords\u001b[39m\u001b[38;5;124m\"\u001b[39m)[\u001b[38;5;241m0\u001b[39m]\n\u001b[1;32m      3\u001b[0m producer\u001b[38;5;241m.\u001b[39msend(\u001b[38;5;124m'\u001b[39m\u001b[38;5;124mdatawizards2\u001b[39m\u001b[38;5;124m'\u001b[39m, value\u001b[38;5;241m=\u001b[39mEIA)\n\u001b[0;32m----> 4\u001b[0m \u001b[43msleep\u001b[49m\u001b[43m(\u001b[49m\u001b[38;5;241;43m1\u001b[39;49m\u001b[43m)\u001b[49m\n",
      "\u001b[0;31mKeyboardInterrupt\u001b[0m: "
     ]
    }
   ],
   "source": [
    "while True:\n",
    "    EIA = df.sample(1).to_dict(orient=\"records\")[0]\n",
    "    producer.send('datawizards2', value=EIA)\n",
    "    sleep(1)"
   ]
  },
  {
   "cell_type": "code",
   "execution_count": null,
   "id": "240e7e7b",
   "metadata": {},
   "outputs": [],
   "source": [
    "producer.flush() #clear data from kafka server"
   ]
  },
  {
   "cell_type": "code",
   "execution_count": null,
   "id": "0635219e",
   "metadata": {},
   "outputs": [],
   "source": []
  }
 ],
 "metadata": {
  "kernelspec": {
   "display_name": "Python 3 (ipykernel)",
   "language": "python",
   "name": "python3"
  },
  "language_info": {
   "codemirror_mode": {
    "name": "ipython",
    "version": 3
   },
   "file_extension": ".py",
   "mimetype": "text/x-python",
   "name": "python",
   "nbconvert_exporter": "python",
   "pygments_lexer": "ipython3",
   "version": "3.9.12"
  }
 },
 "nbformat": 4,
 "nbformat_minor": 5
}
