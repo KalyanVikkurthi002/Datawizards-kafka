{
 "cells": [
  {
   "cell_type": "code",
   "execution_count": 1,
   "id": "31f917cc",
   "metadata": {},
   "outputs": [],
   "source": [
    "from kafka import KafkaConsumer\n",
    "from time import sleep\n",
    "from json import dumps,loads\n",
    "import json\n",
    "from s3fs import S3FileSystem"
   ]
  },
  {
   "cell_type": "code",
   "execution_count": 2,
   "id": "27a30261",
   "metadata": {},
   "outputs": [],
   "source": [
    "consumer = KafkaConsumer(\n",
    "    'datawizards2',\n",
    "     bootstrap_servers=['44.204.65.140:9092'], #add your IP here\n",
    "    value_deserializer=lambda x: loads(x.decode('utf-8')))"
   ]
  },
  {
   "cell_type": "code",
   "execution_count": 3,
   "id": "0be64600",
   "metadata": {},
   "outputs": [],
   "source": [
    "# for c in consumer:\n",
    "#     print(c.value)"
   ]
  },
  {
   "cell_type": "code",
   "execution_count": 4,
   "id": "6e7aae5d",
   "metadata": {},
   "outputs": [],
   "source": [
    "s3 = S3FileSystem()"
   ]
  },
  {
   "cell_type": "code",
   "execution_count": 5,
   "id": "b169899e",
   "metadata": {},
   "outputs": [],
   "source": [
    "# for count, i in enumerate(consumer):\n",
    "#     print(count)\n",
    "#     print(i.value)"
   ]
  },
  {
   "cell_type": "code",
   "execution_count": 6,
   "id": "5a333eda",
   "metadata": {},
   "outputs": [],
   "source": [
    "# for count, i in enumerate(consumer):\n",
    "#     with s3.open(\"s3:/datawizard02/EIA_DATA_{}.json\".format(count), 'w') as file:\n",
    "#         json.dump(i.value, file)    "
   ]
  },
  {
   "cell_type": "code",
   "execution_count": null,
   "id": "6b9efafd",
   "metadata": {},
   "outputs": [],
   "source": [
    "import boto3\n",
    "import json\n",
    "import csv\n",
    "\n",
    "# create an S3 client\n",
    "s3 = boto3.client('s3')\n",
    "\n",
    "# specify the name of your bucket\n",
    "bucket_name = 'datawizard02'\n",
    "\n",
    "# specify the name of your file\n",
    "filename = 'EIA_DATA.json'\n",
    "\n",
    "# create an empty list to store the data\n",
    "data = []\n",
    "\n",
    "# iterate through the consumer data\n",
    "for count, i in enumerate(consumer):\n",
    "    data.append(i.value)\n",
    "    # upload each JSON object to S3 as a separate file\n",
    "    s3.put_object(Bucket=bucket_name, Key='datawizard02/EIA_DATA_{}.json'.format(count), Body=json.dumps(i.value))\n",
    "\n",
    "\n"
   ]
  },
  {
   "cell_type": "code",
   "execution_count": 24,
   "id": "75309f79",
   "metadata": {},
   "outputs": [],
   "source": [
    "# convert the data to CSV format\n",
    "# header = ['period', 'respondent', 'respondent-name', 'type', 'type-name', 'value', 'value-units']\n",
    "# with open('EIA_DATA.csv', 'w', newline='') as csvfile:\n",
    "#     writer = csv.DictWriter(csvfile, fieldnames=header)\n",
    "#     writer.writeheader()\n",
    "#     for d in data:\n",
    "#         writer.writerow(d)\n",
    "\n",
    "# # upload the CSV file to S3\n",
    "# s3.upload_file('EIA_DATA.csv', bucket_name, 'EIA_DATA.csv')"
   ]
  },
  {
   "cell_type": "code",
   "execution_count": 10,
   "id": "5a3ef9bc",
   "metadata": {},
   "outputs": [
    {
     "ename": "AttributeError",
     "evalue": "'KafkaConsumer' object has no attribute 'flush'",
     "output_type": "error",
     "traceback": [
      "\u001b[0;31m---------------------------------------------------------------------------\u001b[0m",
      "\u001b[0;31mAttributeError\u001b[0m                            Traceback (most recent call last)",
      "Input \u001b[0;32mIn [10]\u001b[0m, in \u001b[0;36m<cell line: 1>\u001b[0;34m()\u001b[0m\n\u001b[0;32m----> 1\u001b[0m \u001b[43mconsumer\u001b[49m\u001b[38;5;241;43m.\u001b[39;49m\u001b[43mflush\u001b[49m()\n",
      "\u001b[0;31mAttributeError\u001b[0m: 'KafkaConsumer' object has no attribute 'flush'"
     ]
    }
   ],
   "source": [
    "# consumer.flush()"
   ]
  },
  {
   "cell_type": "code",
   "execution_count": null,
   "id": "74683293",
   "metadata": {},
   "outputs": [],
   "source": [
    "# import boto3\n",
    "\n",
    "# # create an S3 client\n",
    "# s3 = boto3.client('s3')\n",
    "\n",
    "# # specify the name of your bucket\n",
    "# bucket_name = 'datawizard02'\n",
    "\n",
    "# # specify the name of your file\n",
    "# filename = 'EIA_DATA_{}.json'.format(count)\n",
    "\n",
    "# # specify the contents of your file\n",
    "# file_contents = 'Hello, world!'\n",
    "\n",
    "# # upload the file to S3\n",
    "# s3.put_object(Bucket=bucket_name, Key=filename, Body=file_contents)"
   ]
  },
  {
   "cell_type": "code",
   "execution_count": null,
   "id": "6d458844",
   "metadata": {},
   "outputs": [],
   "source": []
  }
 ],
 "metadata": {
  "kernelspec": {
   "display_name": "Python 3 (ipykernel)",
   "language": "python",
   "name": "python3"
  },
  "language_info": {
   "codemirror_mode": {
    "name": "ipython",
    "version": 3
   },
   "file_extension": ".py",
   "mimetype": "text/x-python",
   "name": "python",
   "nbconvert_exporter": "python",
   "pygments_lexer": "ipython3",
   "version": "3.9.12"
  }
 },
 "nbformat": 4,
 "nbformat_minor": 5
}
